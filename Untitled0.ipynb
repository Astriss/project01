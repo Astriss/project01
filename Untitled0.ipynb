{
  "nbformat": 4,
  "nbformat_minor": 0,
  "metadata": {
    "colab": {
      "provenance": [],
      "authorship_tag": "ABX9TyPw79IdOzFJHxm2w54AtSFl",
      "include_colab_link": true
    },
    "kernelspec": {
      "name": "python3",
      "display_name": "Python 3"
    },
    "language_info": {
      "name": "python"
    }
  },
  "cells": [
    {
      "cell_type": "markdown",
      "metadata": {
        "id": "view-in-github",
        "colab_type": "text"
      },
      "source": [
        "<a href=\"https://colab.research.google.com/github/Astriss/project01/blob/main/Untitled0.ipynb\" target=\"_parent\"><img src=\"https://colab.research.google.com/assets/colab-badge.svg\" alt=\"Open In Colab\"/></a>"
      ]
    },
    {
      "cell_type": "code",
      "execution_count": null,
      "metadata": {
        "colab": {
          "base_uri": "https://localhost:8080/"
        },
        "id": "xpFB1RyeELLb",
        "outputId": "8bf91bf7-f76a-4950-a508-58cb350937f9"
      },
      "outputs": [
        {
          "output_type": "stream",
          "name": "stdout",
          "text": [
            "[3]\n",
            "[3, 6]\n",
            "[3, 6, 1]\n",
            "[3, 6, 1, 5]\n",
            "15\n"
          ]
        }
      ],
      "source": [
        "import random\n",
        "k=4\n",
        "y=[]\n",
        "total=0\n",
        "while k!=0:\n",
        "  x=random.randint(1,6)\n",
        "  k-=1\n",
        "  y.append(x)\n",
        "  print(y)\n",
        "for i in y:\n",
        "  total+=i\n",
        "\n",
        "print (total)"
      ]
    },
    {
      "cell_type": "code",
      "source": [
        "import random\n",
        "chars='lsmeholudina4578'\n",
        "leng=input(\"Enter length: \")\n",
        "password=\"\"\n",
        "try:\n",
        "  leng=int(leng)\n",
        "  for i in range(leng):\n",
        "    password+=random.choice(chars)\n",
        "    print(\"Your password: \",password)\n",
        "except ValueError:\n",
        "  print(\"Ты тупой?\")\n",
        "finally:\n",
        "  print(\"This is the end!\")\n",
        "\n"
      ],
      "metadata": {
        "colab": {
          "base_uri": "https://localhost:8080/"
        },
        "id": "qqLPSyX2F4j7",
        "outputId": "8336fa8d-ca06-4e46-f8f2-82a538dfbeea"
      },
      "execution_count": null,
      "outputs": [
        {
          "output_type": "stream",
          "name": "stdout",
          "text": [
            "Enter length: y\n",
            "Ты тупой?\n",
            "This is the end!\n"
          ]
        }
      ]
    }
  ]
}