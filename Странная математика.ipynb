{
  "nbformat": 4,
  "nbformat_minor": 0,
  "metadata": {
    "colab": {
      "provenance": [],
      "authorship_tag": "ABX9TyNQUwQaa1sa5DaKSfFvrjfC"
    },
    "kernelspec": {
      "name": "python3",
      "display_name": "Python 3"
    },
    "language_info": {
      "name": "python"
    }
  },
  "cells": [
    {
      "cell_type": "markdown",
      "source": [
        "# Я заголовок первого уровня (одна решетка)\n",
        "## Я заголовок второго уровня(две решетки)"
      ],
      "metadata": {
        "id": "KkC4nWCkkw33"
      }
    },
    {
      "cell_type": "markdown",
      "source": [
        "blablablabla <br>\n",
        "blablablabla\n",
        "это не питон а маркдаун <br>\n",
        "br делит строки"
      ],
      "metadata": {
        "id": "V5lGngdZlVGd"
      }
    },
    {
      "cell_type": "markdown",
      "source": [
        "* звёздочка станет точкой\n",
        "* типа конспект\n",
        "\n",
        "* TODO - задание <br>\n",
        "* шифт альт вниз копирует строку  \n",
        "* контрл z чё-то тоже делает   \n",
        "* бр и два пробела - одно и то же  \n",
        "## Функции  \n",
        "print()  \n",
        "type() - тип данных  \n",
        "у функции всегда есть скобочки"
      ],
      "metadata": {
        "id": "S9MC-kF4l_0J"
      }
    },
    {
      "cell_type": "code",
      "execution_count": null,
      "metadata": {
        "id": "xXfEAIQ1gOhp"
      },
      "outputs": [],
      "source": [
        "# контрл слэш (ctrl /) - многострочный коммент\n",
        "# комментик\n"
      ]
    },
    {
      "cell_type": "code",
      "source": [
        "print(type(2/2))"
      ],
      "metadata": {
        "colab": {
          "base_uri": "https://localhost:8080/"
        },
        "id": "NvMOGIAWnY1-",
        "outputId": "6c6081a8-ceb3-445e-9373-57809c8cba00"
      },
      "execution_count": 1,
      "outputs": [
        {
          "output_type": "stream",
          "name": "stdout",
          "text": [
            "<class 'float'>\n"
          ]
        }
      ]
    },
    {
      "cell_type": "markdown",
      "source": [
        "// - челочисленное деление  \n",
        "/ - просто деление  \n",
        "% - остаток от деления"
      ],
      "metadata": {
        "id": "6lmjhGX5oYlg"
      }
    },
    {
      "cell_type": "code",
      "source": [
        "print(type (2%2))"
      ],
      "metadata": {
        "colab": {
          "base_uri": "https://localhost:8080/"
        },
        "id": "4q3oxnoIpayY",
        "outputId": "e5768e32-dc5b-43f8-b7e8-00eb0ec6b8b6"
      },
      "execution_count": 4,
      "outputs": [
        {
          "output_type": "stream",
          "name": "stdout",
          "text": [
            "<class 'int'>\n"
          ]
        }
      ]
    },
    {
      "cell_type": "code",
      "source": [
        "print(type(2//2))"
      ],
      "metadata": {
        "colab": {
          "base_uri": "https://localhost:8080/"
        },
        "id": "o1xm7voxo8tB",
        "outputId": "f8e33b72-b2b7-4433-cba9-e10299664133"
      },
      "execution_count": 2,
      "outputs": [
        {
          "output_type": "stream",
          "name": "stdout",
          "text": [
            "<class 'int'>\n"
          ]
        }
      ]
    },
    {
      "cell_type": "code",
      "source": [
        "type(30.0)"
      ],
      "metadata": {
        "colab": {
          "base_uri": "https://localhost:8080/"
        },
        "id": "_5Pgw5DIqRdz",
        "outputId": "de5f0dac-3d86-46df-dae0-30488b5c7728"
      },
      "execution_count": 5,
      "outputs": [
        {
          "output_type": "execute_result",
          "data": {
            "text/plain": [
              "float"
            ]
          },
          "metadata": {},
          "execution_count": 5
        }
      ]
    },
    {
      "cell_type": "code",
      "source": [
        "30.0//3"
      ],
      "metadata": {
        "colab": {
          "base_uri": "https://localhost:8080/"
        },
        "id": "C3lVXH59qcs5",
        "outputId": "a8574b45-2dd9-47d5-eb81-d2b9659d81a0"
      },
      "execution_count": 6,
      "outputs": [
        {
          "output_type": "execute_result",
          "data": {
            "text/plain": [
              "10.0"
            ]
          },
          "metadata": {},
          "execution_count": 6
        }
      ]
    },
    {
      "cell_type": "code",
      "source": [
        "int(30.0//3)"
      ],
      "metadata": {
        "colab": {
          "base_uri": "https://localhost:8080/"
        },
        "id": "KYzj1_WzrKYo",
        "outputId": "3db28c11-64ad-4fcd-cbd3-80be46ca6ffe"
      },
      "execution_count": 7,
      "outputs": [
        {
          "output_type": "execute_result",
          "data": {
            "text/plain": [
              "10"
            ]
          },
          "metadata": {},
          "execution_count": 7
        }
      ]
    },
    {
      "cell_type": "markdown",
      "source": [
        "float круче, чем int, но только при умножении и делении\n",
        "при сложении инт будет интом  \n",
        " \n"
      ],
      "metadata": {
        "id": "nYuoL_0SqmsK"
      }
    },
    {
      "cell_type": "code",
      "source": [
        "0.1+0.2\n"
      ],
      "metadata": {
        "colab": {
          "base_uri": "https://localhost:8080/"
        },
        "id": "bEvj8ZHDttcT",
        "outputId": "8985c185-1d7e-4eaa-9449-35e282722c4b"
      },
      "execution_count": 10,
      "outputs": [
        {
          "output_type": "execute_result",
          "data": {
            "text/plain": [
              "0.30000000000000004"
            ]
          },
          "metadata": {},
          "execution_count": 10
        }
      ]
    },
    {
      "cell_type": "markdown",
      "source": [
        "это случилось  \n",
        "Из-за потери точности  \n",
        "При сложении float-ов  \n"
      ],
      "metadata": {
        "id": "iXTHHAsvtWbM"
      }
    },
    {
      "cell_type": "markdown",
      "source": [
        "Функция round больше любит чётные числа  \n",
        "Она дура"
      ],
      "metadata": {
        "id": "KnIlwv5qu7BZ"
      }
    },
    {
      "cell_type": "code",
      "source": [
        "round(12.46, 1)\n",
        "# округление(чего, до какого знака после запятой)"
      ],
      "metadata": {
        "colab": {
          "base_uri": "https://localhost:8080/"
        },
        "id": "zemlQQzXvH82",
        "outputId": "ae014a4e-56bb-4a47-b299-73946d165ed1"
      },
      "execution_count": 11,
      "outputs": [
        {
          "output_type": "execute_result",
          "data": {
            "text/plain": [
              "12.5"
            ]
          },
          "metadata": {},
          "execution_count": 11
        }
      ]
    },
    {
      "cell_type": "code",
      "source": [
        "round (12.5)\n",
        "# питон очень не хочет 13"
      ],
      "metadata": {
        "colab": {
          "base_uri": "https://localhost:8080/"
        },
        "id": "Da44JKjQvYH4",
        "outputId": "224d7388-dc15-4d63-8d89-cd079bc9cc01"
      },
      "execution_count": 12,
      "outputs": [
        {
          "output_type": "execute_result",
          "data": {
            "text/plain": [
              "12"
            ]
          },
          "metadata": {},
          "execution_count": 12
        }
      ]
    },
    {
      "cell_type": "markdown",
      "source": [
        "Инверсия битов  \n",
        "Что это?  \n",
        "Инверсия   \n",
        "Битов.  \n",
        "Шняга для таблиц всяких, чтобы быстро ее перевернуть"
      ],
      "metadata": {
        "id": "zbjrGcZ1v96T"
      }
    },
    {
      "cell_type": "markdown",
      "source": [
        "**Суровая математика питона**"
      ],
      "metadata": {
        "id": "JmNSF5dpxY3M"
      }
    },
    {
      "cell_type": "markdown",
      "source": [
        "#Индексация"
      ],
      "metadata": {
        "id": "IKlFkBts_FAS"
      }
    },
    {
      "cell_type": "code",
      "source": [
        "greet=\"Hello\"\n",
        "print(greet[0])\n",
        "print(greet[-1])\n",
        "print(greet[0:-1])\n",
        "print(greet[0:3:2])\n",
        "print(greet[::-1])\n",
        "print(greet[::len(greet)])"
      ],
      "metadata": {
        "colab": {
          "base_uri": "https://localhost:8080/"
        },
        "id": "-bHfgJL3_JQe",
        "outputId": "8e609c9a-68dc-4118-e89b-9fa410f67883"
      },
      "execution_count": 21,
      "outputs": [
        {
          "output_type": "stream",
          "name": "stdout",
          "text": [
            "H\n",
            "o\n",
            "Hell\n",
            "Hl\n",
            "olleH\n",
            "H\n"
          ]
        }
      ]
    }
  ]
}